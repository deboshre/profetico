{
  "nbformat": 4,
  "nbformat_minor": 0,
  "metadata": {
    "colab": {
      "name": "svm",
      "version": "0.3.2",
      "provenance": [],
      "collapsed_sections": []
    },
    "kernelspec": {
      "name": "python3",
      "display_name": "Python 3"
    }
  },
  "cells": [
    {
      "cell_type": "code",
      "metadata": {
        "id": "74Mw2MvKOKs9",
        "colab_type": "code",
        "colab": {}
      },
      "source": [
        "# Feature Extraction with RFE\n",
        "import csv\n",
        "from pandas import read_csv\n",
        "from sklearn.feature_selection import RFE\n",
        "from sklearn.linear_model import LogisticRegression\n",
        "import numpy as np"
      ],
      "execution_count": 0,
      "outputs": []
    },
    {
      "cell_type": "code",
      "metadata": {
        "id": "LqtHlEKR6o8P",
        "colab_type": "code",
        "outputId": "8f974684-9c4c-4675-af25-2da97142038c",
        "colab": {
          "base_uri": "https://localhost:8080/",
          "height": 34
        }
      },
      "source": [
        "# load data\n",
        "with open(\"data.csv\", encoding='ISO-8859-1', newline='') as csvfile:\n",
        "    inputCSV = csv.reader(csvfile)\n",
        "    raw_data = []\n",
        "    for row in inputCSV:\n",
        "        raw_data.append(row)"
      ],
      "execution_count": 0,
      "outputs": [
        {
          "output_type": "stream",
          "text": [
            "<class 'list'>\n"
          ],
          "name": "stdout"
        }
      ]
    },
    {
      "cell_type": "code",
      "metadata": {
        "id": "gB2HxdYl8SvD",
        "colab_type": "code",
        "colab": {}
      },
      "source": [
        "input = np.array(raw_data)"
      ],
      "execution_count": 0,
      "outputs": []
    },
    {
      "cell_type": "code",
      "metadata": {
        "id": "dGN7PQlt6X_x",
        "colab_type": "code",
        "outputId": "94a5f432-1a71-4598-84f8-de43d9a9041e",
        "colab": {
          "base_uri": "https://localhost:8080/",
          "height": 51
        }
      },
      "source": [
        "X = input[:,0:69]\n",
        "y = input[:,70:71]\n",
        "Z = input[:,71:72]\n",
        "print (X.shape)\n",
        "print (y.shape)"
      ],
      "execution_count": 0,
      "outputs": [
        {
          "output_type": "stream",
          "text": [
            "(1000, 69)\n",
            "(1000, 1)\n"
          ],
          "name": "stdout"
        }
      ]
    },
    {
      "cell_type": "code",
      "metadata": {
        "id": "42A2t6r-6ZyI",
        "colab_type": "code",
        "colab": {}
      },
      "source": [
        "# feature extraction\n",
        "model = LogisticRegression()\n",
        "rfe = RFE(model, n_features_to_select=40)\n",
        "fit = rfe.fit(X, Y)\n",
        "fit = rfe.fit(X, Z)\n",
        "rfe.poof()"
      ],
      "execution_count": 0,
      "outputs": []
    },
    {
      "cell_type": "code",
      "metadata": {
        "id": "CRUr8XHd6bzl",
        "colab_type": "code",
        "colab": {}
      },
      "source": [
        "print(\"Num Features: %d\",fit.n_features_)\n",
        "print(\"Selected Features: %s\", fit.support_)\n",
        "print(\"Feature Ranking: %s\", fit.ranking_)"
      ],
      "execution_count": 0,
      "outputs": []
    }
  ]
}