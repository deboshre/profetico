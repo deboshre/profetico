{
  "nbformat": 4,
  "nbformat_minor": 0,
  "metadata": {
    "colab": {
      "name": "tweet collection",
      "version": "0.3.2",
      "provenance": [],
      "collapsed_sections": []
    },
    "kernelspec": {
      "name": "python3",
      "display_name": "Python 3"
    }
  },
  "cells": [
    {
      "cell_type": "code",
      "metadata": {
        "id": "oBQWV-fvhshG",
        "colab_type": "code",
        "colab": {}
      },
      "source": [
        "pip install tweepy"
      ],
      "execution_count": 0,
      "outputs": []
    },
    {
      "cell_type": "code",
      "metadata": {
        "id": "o4P_HPSgjYMg",
        "colab_type": "code",
        "colab": {}
      },
      "source": [
        "import tweepy\n",
        "import csv\n",
        "import pandas as pd"
      ],
      "execution_count": 0,
      "outputs": []
    },
    {
      "cell_type": "code",
      "metadata": {
        "id": "jjJK_JZ4j_-J",
        "colab_type": "code",
        "colab": {}
      },
      "source": [
        "consumer_key =\"**\"\n",
        "consumer_secret =\"**\"\n",
        "access_token =\"**\"\n",
        "access_token_secret =\"**\""
      ],
      "execution_count": 0,
      "outputs": []
    },
    {
      "cell_type": "code",
      "metadata": {
        "id": "dWB_SwVNkOhj",
        "colab_type": "code",
        "colab": {}
      },
      "source": [
        "auth = tweepy.OAuthHandler(consumer_key, consumer_secret) \n",
        "auth.set_access_token(access_token, access_token_secret)\n",
        "api = tweepy.API(auth,wait_on_rate_limit=True)"
      ],
      "execution_count": 0,
      "outputs": []
    },
    {
      "cell_type": "code",
      "metadata": {
        "id": "yNp1ajO-kVS-",
        "colab_type": "code",
        "colab": {}
      },
      "source": [
        "csvFile = open('tweets.csv', 'a')"
      ],
      "execution_count": 0,
      "outputs": []
    },
    {
      "cell_type": "code",
      "metadata": {
        "id": "OXU0jqfekutj",
        "colab_type": "code",
        "colab": {}
      },
      "source": [
        "csvWriter = csv.writer(csvFile)"
      ],
      "execution_count": 0,
      "outputs": []
    },
    {
      "cell_type": "code",
      "metadata": {
        "id": "Z75yRdvOnOue",
        "colab_type": "code",
        "colab": {}
      },
      "source": [
        "keywords = ['Riots', 'Protests', 'Violence against civilians']\n"
      ],
      "execution_count": 0,
      "outputs": []
    },
    {
      "cell_type": "code",
      "metadata": {
        "id": "gM5zoFl3kxfs",
        "colab_type": "code",
        "colab": {}
      },
      "source": [
        "for key in keywords:\n",
        "  \n",
        "  for tweet in tweepy.Cursor(api.search,q=key,count=1000,\n",
        "                             lang=\"en\",\n",
        "                             since=\"2019-01-01\").items():\n",
        "      if (not tweet.retweeted) and ('RT @' not in tweet.text):\n",
        "#         print (tweet.created_at, tweet.text)\n",
        "        \n",
        "        csvWriter.writerow([tweet.created_at, tweet.text.encode('utf-8')])\n",
        "        "
      ],
      "execution_count": 0,
      "outputs": []
    }
  ]
}