{
  "nbformat": 4,
  "nbformat_minor": 0,
  "metadata": {
    "colab": {
      "name": "word2vec",
      "version": "0.3.2",
      "provenance": []
    },
    "kernelspec": {
      "name": "python3",
      "display_name": "Python 3"
    }
  },
  "cells": [
    {
      "cell_type": "code",
      "metadata": {
        "id": "ZH3nqaibnO35",
        "colab_type": "code",
        "colab": {}
      },
      "source": [
        "pip install glove_python"
      ],
      "execution_count": 0,
      "outputs": []
    },
    {
      "cell_type": "code",
      "metadata": {
        "id": "xeoVU6KBoCzN",
        "colab_type": "code",
        "colab": {}
      },
      "source": [
        "import csv"
      ],
      "execution_count": 0,
      "outputs": []
    },
    {
      "cell_type": "code",
      "metadata": {
        "id": "8Dfj67AWnaI_",
        "colab_type": "code",
        "colab": {}
      },
      "source": [
        "from glove import Corpus, Glove"
      ],
      "execution_count": 0,
      "outputs": []
    },
    {
      "cell_type": "code",
      "metadata": {
        "id": "_H8F61wPnsND",
        "colab_type": "code",
        "colab": {}
      },
      "source": [
        "with open(\"feature_extracted.csv\", encoding='ISO-8859-1', newline='') as csvfile:\n",
        "    inputCSV = csv.reader(csvfile)\n",
        "    raw_data = []\n",
        "    for row in inputCSV:\n",
        "        raw_data.append(row)\n"
      ],
      "execution_count": 0,
      "outputs": []
    },
    {
      "cell_type": "code",
      "metadata": {
        "id": "lmx6Yh4Nni-Y",
        "colab_type": "code",
        "colab": {}
      },
      "source": [
        "corpus = Corpus()\n",
        "corpus.fit(raw_data, window=10)"
      ],
      "execution_count": 0,
      "outputs": []
    },
    {
      "cell_type": "code",
      "metadata": {
        "id": "nghmKwnZofWI",
        "colab_type": "code",
        "colab": {}
      },
      "source": [
        "glove = Glove(no_components=1, learning_rate=0.05)\n",
        " \n",
        "glove.fit(corpus.matrix, epochs=100, no_threads=4, verbose=True)\n",
        "glove.add_dictionary(corpus.dictionary)\n",
        "glove.save('glove.model')"
      ],
      "execution_count": 0,
      "outputs": []
    },
    {
      "cell_type": "code",
      "metadata": {
        "id": "hkVOMoAkonmR",
        "colab_type": "code",
        "colab": {}
      },
      "source": [
        "glove.add_dictionary(corpus.dictionary)"
      ],
      "execution_count": 0,
      "outputs": []
    },
    {
      "cell_type": "code",
      "metadata": {
        "id": "Cz1ew2130BbK",
        "colab_type": "code",
        "colab": {}
      },
      "source": [
        "file = open(\"india_six.csv\", 'w')\n",
        "for i in range(len(raw_data)):\n",
        "\tdata = []\n",
        "\tfor word in raw_data[i]:\n",
        "\t\tdata.append(str(glove.word_vectors[glove.dictionary[word]][0]))\n",
        "\tfile.write(\",\".join(data))\n",
        "\tfile.write(\"\\n\")\n",
        "file.close()"
      ],
      "execution_count": 0,
      "outputs": []
    }
  ]
}