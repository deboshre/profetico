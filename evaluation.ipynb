{
  "nbformat": 4,
  "nbformat_minor": 0,
  "metadata": {
    "colab": {
      "name": "evaluation",
      "version": "0.3.2",
      "provenance": []
    },
    "kernelspec": {
      "name": "python3",
      "display_name": "Python 3"
    }
  },
  "cells": [
    {
      "cell_type": "code",
      "metadata": {
        "id": "flowijcOKYnS",
        "colab_type": "code",
        "outputId": "665456c4-133f-467e-a605-bfd1b5e69cf9",
        "colab": {
          "base_uri": "https://localhost:8080/",
          "height": 51
        }
      },
      "source": [
        "pip install geopy"
      ],
      "execution_count": 0,
      "outputs": [
        {
          "output_type": "stream",
          "text": [
            "Requirement already satisfied: geopy in /usr/local/lib/python3.6/dist-packages (1.17.0)\n",
            "Requirement already satisfied: geographiclib<2,>=1.49 in /usr/local/lib/python3.6/dist-packages (from geopy) (1.49)\n"
          ],
          "name": "stdout"
        }
      ]
    },
    {
      "cell_type": "code",
      "metadata": {
        "id": "ouHwVQq-oFRV",
        "colab_type": "code",
        "colab": {}
      },
      "source": [
        "import csv\n",
        "import collections\n",
        "import math\n",
        "import openlocationcode as olc\n",
        "from geopy import distance\n",
        "# Plus Code Precision Level\n",
        "# 10 => 14m\n",
        "# 8 => 275m\n",
        "# 6 => 5.55KM\n",
        "# 4 => 111KM\n",
        "# 2 => 2220KM"
      ],
      "execution_count": 0,
      "outputs": []
    },
    {
      "cell_type": "code",
      "metadata": {
        "id": "iU_HZEUA6iRr",
        "colab_type": "code",
        "colab": {}
      },
      "source": [
        "import datetime\n",
        "def format_date(date):\n",
        "  return datetime.datetime.strptime(date, \"%m/%d/%Y\")"
      ],
      "execution_count": 0,
      "outputs": []
    },
    {
      "cell_type": "code",
      "metadata": {
        "id": "BaVt_T8XxtIF",
        "colab_type": "code",
        "colab": {}
      },
      "source": [
        "PLUS_CODE_PRECISION = 4\n",
        "predicted_data = {}\n",
        "pred = open(\"predicted_data.csv\")\n",
        "reader1 = csv.DictReader(pred)\n",
        "for row in reader1:\n",
        "  date = format_date(row['Date'])\n",
        "  if date in predicted_data:\n",
        "    row['plus_code'] = olc.encode(float(row['lat']), float(row['long']), PLUS_CODE_PRECISION)[0:4]\n",
        "    predicted_data[date].append(dict(row))\n",
        "    predicted_data[date] = sorted(predicted_data[date], key= lambda x: x['plus_code'])\n",
        "  else:\n",
        "    row['plus_code'] = olc.encode(float(row['lat']), float(row['long']), PLUS_CODE_PRECISION)[0:4]\n",
        "    predicted_data[date] = [dict(row)]\n",
        "\n",
        "predicted_dates = sorted(predicted_data.keys())"
      ],
      "execution_count": 0,
      "outputs": []
    },
    {
      "cell_type": "code",
      "metadata": {
        "id": "Q_tWW5-uwoTx",
        "colab_type": "code",
        "colab": {}
      },
      "source": [
        "actual_data = {}\n",
        "actual = open(\"actual_data.csv\")\n",
        "reader1 = csv.DictReader(actual)\n",
        "for row in reader1:\n",
        "  date = format_date(row['date'])\n",
        "\n",
        "  if date in actual_data:\n",
        "    row['plus_code'] = olc.encode(float(row['latitude']), float(row['longitude']), PLUS_CODE_PRECISION)[0:4]\n",
        "    actual_data[date].append(dict(row))\n",
        "    actual_data[date] = sorted(actual_data[date], key=lambda x: x['plus_code'])\n",
        "  else:\n",
        "    row['plus_code'] = olc.encode(float(row['latitude']), float(row['longitude']), PLUS_CODE_PRECISION)[0:4]\n",
        "    actual_data[date] = [dict(row)]\n",
        "\n",
        "actual_dates = sorted(actual_data.keys())"
      ],
      "execution_count": 0,
      "outputs": []
    },
    {
      "cell_type": "code",
      "metadata": {
        "id": "h6enk4GbjBWt",
        "colab_type": "code",
        "colab": {}
      },
      "source": [
        "def search_nearest_to_actual(date, left = 0, right = len(actual_dates)):\n",
        "  if right >= left:\n",
        "    mid = int((left + right) / 2)\n",
        "    if(actual_dates[mid] == date):\n",
        "      return [\"exact_found\", mid]\n",
        "    else:\n",
        "      if date > actual_dates[mid]:\n",
        "        return search_nearest_to_actual(date, mid + 1, right)\n",
        "      else:\n",
        "        return search_nearest_to_actual(date, left, mid - 1)\n",
        "  else:\n",
        "    return [\"nearest_found\", left]"
      ],
      "execution_count": 0,
      "outputs": []
    },
    {
      "cell_type": "code",
      "metadata": {
        "id": "0Po8A32h2SvR",
        "colab_type": "code",
        "colab": {}
      },
      "source": [
        "def day_score(diff):\n",
        "  if diff == 0:\n",
        "    return 1\n",
        "  elif diff == 1:\n",
        "    return 0.75\n",
        "  elif diff == 2:\n",
        "    return 0.5\n",
        "  elif diff == 3:\n",
        "    return 0.25\n",
        "  else:\n",
        "    return 0\n",
        "\n",
        "def distance_score(dist):\n",
        "  if dist > 400:\n",
        "    return 0\n",
        "  elif dist > 300:\n",
        "    return 0.25\n",
        "  elif dist > 200:\n",
        "    return 0.5\n",
        "  elif dist > 100:\n",
        "    return 0.25\n",
        "  else:\n",
        "    return 1\n",
        "\n",
        "max_threshold_distance = 400\n",
        "max_threshold_days = 4"
      ],
      "execution_count": 0,
      "outputs": []
    },
    {
      "cell_type": "code",
      "metadata": {
        "id": "KRaacRDhIWkw",
        "colab_type": "code",
        "colab": {}
      },
      "source": [
        "for date in predicted_dates:\n",
        "  status, index = search_nearest_to_actual(date)\n",
        "  next_actual_date = actual_dates[index]\n",
        "  current_diff = abs((date - next_actual_date).days)\n",
        "\n",
        "  if current_diff > 4:\n",
        "    predicted_data[date]['score'] = 0\n",
        "    continue\n",
        "  predicted_event_count = len(predicted_data[date])\n",
        "  for predict_row in predicted_data[date]:\n",
        "    max_score = 0\n",
        "    first = (predict_row['lat'], predict_row['long'])\n",
        "    actual_event_count = len(actual_data[next_actual_date])\n",
        "    for actual_row in actual_data[next_actual_date]:\n",
        "      try:\n",
        "        second = (float(actual_row['latitude']), float(actual_row['longitude']))\t\n",
        "        current_dist = distance.distance(first, second).km\n",
        "      except ValueError as e:\n",
        "        print(\"wrong lat lon\", actual_row, predict_row)\n",
        "        continue\n",
        "      score = day_score(current_diff) * distance_score(current_dist)\n",
        "      ratio = float(min(predicted_event_count,actual_event_count))  / float(max(predicted_event_count,actual_event_count))\n",
        "      final_score = 0.2 * ratio + 0.8 * score\n",
        "      if final_score > max_score:\n",
        "        max_score = final_score\n",
        "        predict_row['score'] = final_score\n",
        "    if index < len(actual_dates):\n",
        "      next_actual_date = actual_dates[index]\n",
        "      current_diff = abs((date - next_actual_date).days)\n",
        "      index += 1\n",
        "    if current_diff > 4:\n",
        "      break\n",
        "\n",
        "print(predicted_data)"
      ],
      "execution_count": 0,
      "outputs": []
    },
    {
      "cell_type": "code",
      "metadata": {
        "id": "20_-a-4fR50Z",
        "colab_type": "code",
        "colab": {}
      },
      "source": [
        "final_result = open(\"final_result.csv\", \"w\")\n",
        "final_result.write(\"country,date,lat,long,place,state,score\")\n",
        "final_result.write(\"\\r\\n\")\n",
        "for date in predicted_data.keys():\n",
        "  string_date = datetime.datetime.strftime(date, \"%m/%d/%Y\")\n",
        "  for row in predicted_data[date]:\n",
        "    final_result.write(\"{0},{1},{2},{3},{4},{5},{6}\".format(row['country'], string_date, row['lat'], row['long'], row['place'], row['state'], row['score'] if 'score' in row else 0))\n",
        "    final_result.write(\"\\r\\n\")\n",
        "final_result.close()"
      ],
      "execution_count": 0,
      "outputs": []
    },
    {
      "cell_type": "code",
      "metadata": {
        "id": "iqw2w1weNv2y",
        "colab_type": "code",
        "colab": {}
      },
      "source": [
        ""
      ],
      "execution_count": 0,
      "outputs": []
    }
  ]
}