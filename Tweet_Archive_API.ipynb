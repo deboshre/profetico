{
  "nbformat": 4,
  "nbformat_minor": 0,
  "metadata": {
    "colab": {
      "name": "Tweet Archieve API.ipynb",
      "version": "0.3.2",
      "provenance": [],
      "collapsed_sections": []
    },
    "kernelspec": {
      "name": "python3",
      "display_name": "Python 3"
    }
  },
  "cells": [
    {
      "cell_type": "code",
      "metadata": {
        "id": "dYGv_2t4GcIJ",
        "colab_type": "code",
        "colab": {}
      },
      "source": [
        "from requests_oauthlib import OAuth1Session\n",
        "test = OAuth1Session('cLMZio0l0EkT7wCXcszkKCbpT',\n",
        "                    client_secret='BX05w0LZDhSPPPeggoqbVypfTPf1haQUld5VyyhJY2dG95Y3Zs')\n",
        "#Query string,From Date and To Date to be mentioned in the URL\n",
        "url = 'https://api.twitter.com/1.1/tweets/search/fullarchive/dev.json?query=Riot India&fromDate=201401100000&toDate=201401110000'\n",
        "r = test.get(url)\n",
        "with open('Tweets.json', 'w') as f:\n",
        "  f.write(\"%s\\n\"%r.content)"
      ],
      "execution_count": 0,
      "outputs": []
    }
  ]
}